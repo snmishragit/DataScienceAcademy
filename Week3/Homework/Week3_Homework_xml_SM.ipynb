{
 "cells": [
  {
   "cell_type": "markdown",
   "id": "4c49ac35",
   "metadata": {},
   "source": [
    "#2 Homework - XML File parsing"
   ]
  },
  {
   "cell_type": "code",
   "execution_count": 1,
   "id": "19bd154e",
   "metadata": {},
   "outputs": [],
   "source": [
    "import pandas as pd\n",
    "import xml.etree.ElementTree as et  # package for xml parsing\n",
    "import json"
   ]
  },
  {
   "cell_type": "code",
   "execution_count": 43,
   "id": "9000240b",
   "metadata": {},
   "outputs": [
    {
     "name": "stdout",
     "output_type": "stream",
     "text": [
      "sessionID , 7369 , 0\n",
      "teamID , hao_jiangang , 0\n",
      "playerID , None , 4\n",
      "['userID1:jiangang', 'nickname1:jiangang', 'userID2:hao', 'nickname2:hao']\n",
      "attemptID , 17 , 0\n",
      "sessionExtData , None , 5\n",
      "['attempt:17', 'n_player:2', 'team_assembly_mode:random', 'P1:jiangang', 'P2:hao']\n",
      "eventSequence , None , 45\n",
      "7369 17 hao_jiangang\n"
     ]
    },
    {
     "data": {
      "text/plain": [
       "<xml.etree.ElementTree.ElementTree at 0x209cb41db80>"
      ]
     },
     "execution_count": 43,
     "metadata": {},
     "output_type": "execute_result"
    }
   ],
   "source": [
    "#function to convert xml to dataframe\n",
    "\n",
    "#def loop_in_xmlnode(xmlnode):\n",
    "    \n",
    "def xml_to_dataframe(xmlfilename):\n",
    "    xmltree = et.parse(xmlfilename)\n",
    "    #dataframe = pd.read_xml(xmlfilename)\n",
    "    xroot = xmltree.getroot()\n",
    "    #print(len(xroot))    \n",
    "    #get the first node\n",
    "    fstnode = xroot[0]\n",
    "    df_rows = []\n",
    "    \n",
    "    #a = 'sessionID'\n",
    "    sessionID, teamID, attemptID = '','',''\n",
    "    playerID = []\n",
    "    sessionExtData = []\n",
    "    eventSequence = []\n",
    "    \n",
    "    for node in fstnode:\n",
    "        print(node.tag,',',node.text, ',',len(node))\n",
    "        if(node.tag == 'sessionID'):\n",
    "            sessionID = node.text\n",
    "        elif(node.tag == 'teamID'):\n",
    "            teamID = node.text\n",
    "        elif(node.tag == 'attemptID'):\n",
    "            attemptID = node.text\n",
    "        #get child nodes when the length is more than 0\n",
    "        if(len(node) > 0):\n",
    "            #get PayerIDs\n",
    "            if(node.tag == 'playerID'): \n",
    "                pair = node.findall('pair')                \n",
    "                for item in pair: \n",
    "                    #print('Key', item.find('key').text)\n",
    "                    #print('Value', item.find('value').text)\n",
    "                    info = item.find('key').text + ':' + item.find('value').text \n",
    "                    playerID.append(info) \n",
    "                print(playerID)\n",
    "            \n",
    "            #sessionExtData\n",
    "            elif(node.tag == 'sessionExtData'): \n",
    "                pair = node.findall('pair')                \n",
    "                for item in pair: \n",
    "                    #print('Key', item.find('key').text)\n",
    "                    #print('Value', item.find('value').text)\n",
    "                    info = item.find('key').text + ':' + item.find('value').text \n",
    "                    sessionExtData.append(info) \n",
    "                print(sessionExtData)\n",
    "            #eventSequence\n",
    "            elif(node.tag == 'eventSequence'): \n",
    "                pair = node.findall('pair')                \n",
    "                for item in pair: \n",
    "                    #print('Key', item.find('key').text)\n",
    "                    #print('Value', item.find('value').text)\n",
    "                    info = item.find('key').text + ':' + item.find('value').text \n",
    "                    sessionExtData.append(info) \n",
    "                print(sessionExtData)\n",
    "    print(sessionID, attemptID,teamID)\n",
    "        \n",
    "    return xmltree\n",
    "\n",
    "xml_to_dataframe('../data_for_week3/homework/week3_homework.xml')"
   ]
  }
 ],
 "metadata": {
  "kernelspec": {
   "display_name": "Python 3",
   "language": "python",
   "name": "python3"
  },
  "language_info": {
   "codemirror_mode": {
    "name": "ipython",
    "version": 3
   },
   "file_extension": ".py",
   "mimetype": "text/x-python",
   "name": "python",
   "nbconvert_exporter": "python",
   "pygments_lexer": "ipython3",
   "version": "3.8.8"
  }
 },
 "nbformat": 4,
 "nbformat_minor": 5
}
