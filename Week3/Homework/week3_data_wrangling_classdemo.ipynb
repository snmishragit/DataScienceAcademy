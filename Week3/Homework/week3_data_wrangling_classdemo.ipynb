{
 "cells": [
  {
   "cell_type": "markdown",
   "metadata": {},
   "source": [
    "# Data Science Academy Season II\n",
    "\n",
    "# Parsing Structured and unstructured data\n",
    "\n",
    "\n",
    "# 1) complete the class exercise and parse the json file to a pandas dataframe."
   ]
  },
  {
   "cell_type": "markdown",
   "metadata": {},
   "source": [
    "# Parsing unstructured data"
   ]
  },
  {
   "cell_type": "markdown",
   "metadata": {},
   "source": [
    "### step 1. load packages"
   ]
  },
  {
   "cell_type": "code",
   "execution_count": 9,
   "metadata": {},
   "outputs": [],
   "source": [
    "import numpy as np\n",
    "import pandas as pd"
   ]
  },
  {
   "cell_type": "markdown",
   "metadata": {},
   "source": [
    "### step 2. open the file"
   ]
  },
  {
   "cell_type": "code",
   "execution_count": 2,
   "metadata": {},
   "outputs": [],
   "source": [
    "with open('../data_for_week3/class_demo/unstructured_example_log.txt') as f:\n",
    "    txt = f.readlines()"
   ]
  },
  {
   "cell_type": "code",
   "execution_count": 3,
   "metadata": {},
   "outputs": [
    {
     "data": {
      "text/plain": [
       "['[5/15/2013 2:17:26 PM] Session Start\\n',\n",
       " '[5/15/2013 2:17:26 PM] Leaving sequence: loadXML, moving forward.\\n',\n",
       " '[5/15/2013 2:17:30 PM] Player submitted name: Carl\\n',\n",
       " '[5/15/2013 2:17:30 PM] Leaving sequence: InputNameScreen, moving forward.\\n',\n",
       " '[5/15/2013 2:17:31 PM] Player submitted name: Carl\\n',\n",
       " '[5/15/2013 2:17:31 PM] Leaving sequence: startScreen, moving forward.\\n',\n",
       " '[5/15/2013 2:17:50 PM] Player submitted name: Carl\\n',\n",
       " '[5/15/2013 2:17:50 PM] Leaving sequence: slide2, moving forward.\\n',\n",
       " '[5/15/2013 2:17:55 PM] Player submitted name: Carl\\n',\n",
       " '[5/15/2013 2:17:55 PM] Leaving sequence: slide2b, moving forward.\\n',\n",
       " '[5/15/2013 2:18:34 PM] Player submitted name: Carl\\n',\n",
       " '[5/15/2013 2:18:34 PM] Leaving sequence: slide2c, moving forward.\\n',\n",
       " '[5/15/2013 2:20:09 PM] Player submitted name: Carl\\n',\n",
       " '[5/15/2013 2:20:09 PM] Leaving sequence: slide3, moving forward.\\n',\n",
       " '[5/15/2013 2:20:13 PM] Player submitted name: Carl\\n',\n",
       " '[5/15/2013 2:20:13 PM] Leaving sequence: slide4, moving forward.\\n']"
      ]
     },
     "execution_count": 3,
     "metadata": {},
     "output_type": "execute_result"
    }
   ],
   "source": [
    "txt"
   ]
  },
  {
   "cell_type": "markdown",
   "metadata": {},
   "source": [
    "### step 3. clean the lines by stripping off the \\n"
   ]
  },
  {
   "cell_type": "code",
   "execution_count": 5,
   "metadata": {},
   "outputs": [
    {
     "data": {
      "text/plain": [
       "['[5/15/2013 2:17:26 PM] Session Start',\n",
       " '[5/15/2013 2:17:26 PM] Leaving sequence: loadXML, moving forward.',\n",
       " '[5/15/2013 2:17:30 PM] Player submitted name: Carl',\n",
       " '[5/15/2013 2:17:30 PM] Leaving sequence: InputNameScreen, moving forward.',\n",
       " '[5/15/2013 2:17:31 PM] Player submitted name: Carl',\n",
       " '[5/15/2013 2:17:31 PM] Leaving sequence: startScreen, moving forward.',\n",
       " '[5/15/2013 2:17:50 PM] Player submitted name: Carl',\n",
       " '[5/15/2013 2:17:50 PM] Leaving sequence: slide2, moving forward.',\n",
       " '[5/15/2013 2:17:55 PM] Player submitted name: Carl',\n",
       " '[5/15/2013 2:17:55 PM] Leaving sequence: slide2b, moving forward.',\n",
       " '[5/15/2013 2:18:34 PM] Player submitted name: Carl',\n",
       " '[5/15/2013 2:18:34 PM] Leaving sequence: slide2c, moving forward.',\n",
       " '[5/15/2013 2:20:09 PM] Player submitted name: Carl',\n",
       " '[5/15/2013 2:20:09 PM] Leaving sequence: slide3, moving forward.',\n",
       " '[5/15/2013 2:20:13 PM] Player submitted name: Carl',\n",
       " '[5/15/2013 2:20:13 PM] Leaving sequence: slide4, moving forward.']"
      ]
     },
     "execution_count": 5,
     "metadata": {},
     "output_type": "execute_result"
    }
   ],
   "source": [
    "txt = [t.strip() for t in txt]\n",
    "txt"
   ]
  },
  {
   "cell_type": "code",
   "execution_count": 6,
   "metadata": {},
   "outputs": [
    {
     "data": {
      "text/plain": [
       "'[5/15/2013 2:17:26 PM] Session Start'"
      ]
     },
     "execution_count": 6,
     "metadata": {},
     "output_type": "execute_result"
    }
   ],
   "source": [
    "txt[0]"
   ]
  },
  {
   "cell_type": "markdown",
   "metadata": {},
   "source": [
    "### step 4. chuncking and formatting"
   ]
  },
  {
   "cell_type": "code",
   "execution_count": null,
   "metadata": {},
   "outputs": [],
   "source": [
    "txt[0].split(']')[0].replace('[','')"
   ]
  },
  {
   "cell_type": "code",
   "execution_count": null,
   "metadata": {},
   "outputs": [],
   "source": [
    "txt[0].split(']')[1]"
   ]
  },
  {
   "cell_type": "code",
   "execution_count": null,
   "metadata": {},
   "outputs": [],
   "source": [
    "txt[0].split(']')[1].upper()"
   ]
  },
  {
   "cell_type": "markdown",
   "metadata": {},
   "source": [
    "### step 5. datetime conversion"
   ]
  },
  {
   "cell_type": "code",
   "execution_count": null,
   "metadata": {},
   "outputs": [],
   "source": [
    "s = txt[0].split(']')[0].strip('[')"
   ]
  },
  {
   "cell_type": "code",
   "execution_count": null,
   "metadata": {},
   "outputs": [],
   "source": [
    "s"
   ]
  },
  {
   "cell_type": "code",
   "execution_count": null,
   "metadata": {},
   "outputs": [],
   "source": [
    "dtfmt ='%m/%d/%Y %I:%M:%S %p'   # %H -> 24 hours, %I-> 12 hours"
   ]
  },
  {
   "cell_type": "code",
   "execution_count": null,
   "metadata": {},
   "outputs": [],
   "source": [
    "dt = datetime.strptime(s, dtfmt)"
   ]
  },
  {
   "cell_type": "code",
   "execution_count": null,
   "metadata": {},
   "outputs": [],
   "source": [
    "dt"
   ]
  },
  {
   "cell_type": "markdown",
   "metadata": {},
   "source": [
    "### step 6. convert into a dataframe"
   ]
  },
  {
   "cell_type": "code",
   "execution_count": null,
   "metadata": {},
   "outputs": [],
   "source": [
    "col1 = []\n",
    "col2 = []\n",
    "col3 = []"
   ]
  },
  {
   "cell_type": "code",
   "execution_count": null,
   "metadata": {},
   "outputs": [],
   "source": [
    "for line in txt:\n",
    "    s1=line.split(']')[0].strip('[')\n",
    "    dt = datetime.strptime(s1, dtfmt)\n",
    "    col1.append(dt)\n",
    "    s= line.split(']')[1].strip().split(':')\n",
    "    col2.append(s[0])\n",
    "    if len(s) == 2:\n",
    "        col3.append(s[1])\n",
    "    else:\n",
    "        col3.append(np.nan)"
   ]
  },
  {
   "cell_type": "code",
   "execution_count": null,
   "metadata": {},
   "outputs": [],
   "source": [
    "df = pd.DataFrame([col1,col2,col3]).T\n",
    "df.columns=['datetime','event_name', 'event_result']"
   ]
  },
  {
   "cell_type": "code",
   "execution_count": null,
   "metadata": {},
   "outputs": [],
   "source": [
    "df"
   ]
  },
  {
   "cell_type": "markdown",
   "metadata": {},
   "source": [
    "### step 7. convert to seconds"
   ]
  },
  {
   "cell_type": "code",
   "execution_count": null,
   "metadata": {},
   "outputs": [],
   "source": [
    "(df.datetime-df.datetime.loc[0]).apply(lambda x: x.total_seconds())"
   ]
  },
  {
   "cell_type": "code",
   "execution_count": null,
   "metadata": {},
   "outputs": [],
   "source": [
    "df['time_seconds'] = (df.datetime-df.datetime.loc[0]).apply(lambda x: x.total_seconds())"
   ]
  },
  {
   "cell_type": "code",
   "execution_count": null,
   "metadata": {},
   "outputs": [],
   "source": [
    "df"
   ]
  },
  {
   "cell_type": "markdown",
   "metadata": {},
   "source": [
    "## Parsing HTML"
   ]
  },
  {
   "cell_type": "code",
   "execution_count": 29,
   "metadata": {},
   "outputs": [
    {
     "name": "stdout",
     "output_type": "stream",
     "text": [
      "Requirement already satisfied: beautifulsoup4 in c:\\programdata\\anaconda3\\lib\\site-packages (4.9.3)\n",
      "Requirement already satisfied: soupsieve>1.2 in c:\\programdata\\anaconda3\\lib\\site-packages (from beautifulsoup4) (2.2.1)\n"
     ]
    }
   ],
   "source": [
    "!pip install beautifulsoup4"
   ]
  },
  {
   "cell_type": "code",
   "execution_count": 30,
   "metadata": {},
   "outputs": [],
   "source": [
    "from bs4 import BeautifulSoup"
   ]
  },
  {
   "cell_type": "code",
   "execution_count": 31,
   "metadata": {},
   "outputs": [],
   "source": [
    "with open(\"../data_for_week3/class_demo/html_example.html\") as f:\n",
    "    soup = BeautifulSoup(f,'html.parser')"
   ]
  },
  {
   "cell_type": "code",
   "execution_count": 32,
   "metadata": {},
   "outputs": [
    {
     "name": "stdout",
     "output_type": "stream",
     "text": [
      "<html>\n",
      "<head>\n",
      "<title>The Dormouse's story</title>\n",
      "</head>\n",
      "<body>\n",
      "<p class=\"title\"> <b>The Dormouse's story</b> </p>\n",
      "<p class=\"story\">Once upon a time there were three little sisters; and their names were <a class=\"sister\" href=\"http://example.com/elsie\" id=\"link1\">Elsie</a>, <a class=\"sister\" href=\"http://example.com/lacie\" id=\"link2\">Lacie</a> and <a class=\"sister\" href=\"http://example.com/tillie\" id=\"link3\">Tillie</a>; and they lived at the bottom of a well.</p>\n",
      "</body>\n",
      "</html>\n"
     ]
    }
   ],
   "source": [
    "print(soup)"
   ]
  },
  {
   "cell_type": "code",
   "execution_count": null,
   "metadata": {},
   "outputs": [],
   "source": [
    "#get the title\n",
    "soup.title"
   ]
  },
  {
   "cell_type": "code",
   "execution_count": null,
   "metadata": {},
   "outputs": [],
   "source": [
    "# get all text\n",
    "soup.get_text()"
   ]
  },
  {
   "cell_type": "code",
   "execution_count": null,
   "metadata": {},
   "outputs": [],
   "source": [
    "# get the head\n",
    "soup.head"
   ]
  },
  {
   "cell_type": "code",
   "execution_count": null,
   "metadata": {},
   "outputs": [],
   "source": [
    "soup.body"
   ]
  },
  {
   "cell_type": "code",
   "execution_count": null,
   "metadata": {},
   "outputs": [],
   "source": [
    "#access one element\n",
    "soup.a"
   ]
  },
  {
   "cell_type": "code",
   "execution_count": null,
   "metadata": {},
   "outputs": [],
   "source": [
    "# name of the tag\n",
    "soup.a.name"
   ]
  },
  {
   "cell_type": "code",
   "execution_count": null,
   "metadata": {},
   "outputs": [],
   "source": [
    "# content of the tag\n",
    "soup.a.text"
   ]
  },
  {
   "cell_type": "code",
   "execution_count": null,
   "metadata": {},
   "outputs": [],
   "source": [
    "# attributes of the tag\n",
    "soup.a.attrs"
   ]
  },
  {
   "cell_type": "code",
   "execution_count": null,
   "metadata": {},
   "outputs": [],
   "source": [
    "# get the attribute of href\n",
    "soup.a.attrs['href']"
   ]
  },
  {
   "cell_type": "code",
   "execution_count": null,
   "metadata": {},
   "outputs": [],
   "source": [
    "# find all a tags\n",
    "soup.find_all('a')"
   ]
  },
  {
   "cell_type": "code",
   "execution_count": null,
   "metadata": {},
   "outputs": [],
   "source": [
    "# find all a tags with id attribute = link2\n",
    "soup.find_all('a',{\"id\":\"link2\"})"
   ]
  },
  {
   "cell_type": "code",
   "execution_count": null,
   "metadata": {},
   "outputs": [],
   "source": [
    "soup.find_all('a',text='Lacie')"
   ]
  },
  {
   "cell_type": "markdown",
   "metadata": {},
   "source": [
    "## Parsing JSON file"
   ]
  },
  {
   "cell_type": "markdown",
   "metadata": {},
   "source": [
    "### Step 1. Loading the needed packages"
   ]
  },
  {
   "cell_type": "code",
   "execution_count": 24,
   "metadata": {},
   "outputs": [],
   "source": [
    "import pandas as pd\n",
    "import json\n",
    "from datetime import datetime"
   ]
  },
  {
   "cell_type": "markdown",
   "metadata": {},
   "source": [
    "### Step 2. Open the unstructured data file and read it into a Python dictionary"
   ]
  },
  {
   "cell_type": "code",
   "execution_count": 25,
   "metadata": {},
   "outputs": [],
   "source": [
    "with open('../data_for_week3/class_demo/structured_example_log.json') as f:\n",
    "    txt = json.load(f)"
   ]
  },
  {
   "cell_type": "code",
   "execution_count": 26,
   "metadata": {},
   "outputs": [
    {
     "data": {
      "text/plain": [
       "[{'session_time': '2013-05-15 14:17:26',\n",
       "  'event_name': 'Session Start',\n",
       "  'event_attribute': 'NaN'},\n",
       " {'session_time': '2013-05-15 14:17:26',\n",
       "  'event_name': 'Leaving sequence',\n",
       "  'event_attribute': 'loadXML, moving forward.'},\n",
       " {'session_time': '2013-05-15 14:17:30',\n",
       "  'event_name': 'Player submitted name',\n",
       "  'event_attribute': 'Carl'},\n",
       " {'session_time': '2013-05-15 14:17:30',\n",
       "  'event_name': 'Leaving sequence',\n",
       "  'event_attribute': 'InputNameScreen, moving forward.'},\n",
       " {'session_time': '2013-05-15 14:17:31',\n",
       "  'event_name': 'Player submitted name',\n",
       "  'event_attribute': 'Carl'},\n",
       " {'session_time': '2013-05-15 14:17:31',\n",
       "  'event_name': 'Leaving sequence',\n",
       "  'event_attribute': 'startScreen, moving forward.'},\n",
       " {'session_time': '2013-05-15 14:17:50',\n",
       "  'event_name': 'Player submitted name',\n",
       "  'event_attribute': 'Carl'},\n",
       " {'session_time': '2013-05-15 14:17:50',\n",
       "  'event_name': 'Leaving sequence',\n",
       "  'event_attribute': 'slide2, moving forward.'},\n",
       " {'session_time': '2013-05-15 14:17:55',\n",
       "  'event_name': 'Player submitted name',\n",
       "  'event_attribute': 'Carl'},\n",
       " {'session_time': '2013-05-15 14:17:55',\n",
       "  'event_name': 'Leaving sequence',\n",
       "  'event_attribute': 'slide2b, moving forward.'},\n",
       " {'session_time': '2013-05-15 14:18:34',\n",
       "  'event_name': 'Player submitted name',\n",
       "  'event_attribute': 'Carl'},\n",
       " {'session_time': '2013-05-15 14:18:34',\n",
       "  'event_name': 'Leaving sequence',\n",
       "  'event_attribute': 'slide2c, moving forward.'},\n",
       " {'session_time': '2013-05-15 14:20:09',\n",
       "  'event_name': 'Player submitted name',\n",
       "  'event_attribute': 'Carl'},\n",
       " {'session_time': '2013-05-15 14:20:09',\n",
       "  'event_name': 'Leaving sequence',\n",
       "  'event_attribute': 'slide3, moving forward.'},\n",
       " {'session_time': '2013-05-15 14:20:13',\n",
       "  'event_name': 'Player submitted name',\n",
       "  'event_attribute': 'Carl'},\n",
       " {'session_time': '2013-05-15 14:20:13',\n",
       "  'event_name': 'Leaving sequence',\n",
       "  'event_attribute': 'slide4, moving forward.'}]"
      ]
     },
     "execution_count": 26,
     "metadata": {},
     "output_type": "execute_result"
    }
   ],
   "source": [
    "txt.get('data')"
   ]
  },
  {
   "cell_type": "markdown",
   "metadata": {},
   "source": [
    "### Step 3. Convert a list of dictionaries to data frame"
   ]
  },
  {
   "cell_type": "code",
   "execution_count": 27,
   "metadata": {},
   "outputs": [
    {
     "data": {
      "text/html": [
       "<div>\n",
       "<style scoped>\n",
       "    .dataframe tbody tr th:only-of-type {\n",
       "        vertical-align: middle;\n",
       "    }\n",
       "\n",
       "    .dataframe tbody tr th {\n",
       "        vertical-align: top;\n",
       "    }\n",
       "\n",
       "    .dataframe thead th {\n",
       "        text-align: right;\n",
       "    }\n",
       "</style>\n",
       "<table border=\"1\" class=\"dataframe\">\n",
       "  <thead>\n",
       "    <tr style=\"text-align: right;\">\n",
       "      <th></th>\n",
       "      <th>session_time</th>\n",
       "      <th>event_name</th>\n",
       "      <th>event_attribute</th>\n",
       "    </tr>\n",
       "  </thead>\n",
       "  <tbody>\n",
       "    <tr>\n",
       "      <th>0</th>\n",
       "      <td>2013-05-15 14:17:26</td>\n",
       "      <td>Session Start</td>\n",
       "      <td>NaN</td>\n",
       "    </tr>\n",
       "    <tr>\n",
       "      <th>1</th>\n",
       "      <td>2013-05-15 14:17:26</td>\n",
       "      <td>Leaving sequence</td>\n",
       "      <td>loadXML, moving forward.</td>\n",
       "    </tr>\n",
       "    <tr>\n",
       "      <th>2</th>\n",
       "      <td>2013-05-15 14:17:30</td>\n",
       "      <td>Player submitted name</td>\n",
       "      <td>Carl</td>\n",
       "    </tr>\n",
       "    <tr>\n",
       "      <th>3</th>\n",
       "      <td>2013-05-15 14:17:30</td>\n",
       "      <td>Leaving sequence</td>\n",
       "      <td>InputNameScreen, moving forward.</td>\n",
       "    </tr>\n",
       "    <tr>\n",
       "      <th>4</th>\n",
       "      <td>2013-05-15 14:17:31</td>\n",
       "      <td>Player submitted name</td>\n",
       "      <td>Carl</td>\n",
       "    </tr>\n",
       "    <tr>\n",
       "      <th>5</th>\n",
       "      <td>2013-05-15 14:17:31</td>\n",
       "      <td>Leaving sequence</td>\n",
       "      <td>startScreen, moving forward.</td>\n",
       "    </tr>\n",
       "    <tr>\n",
       "      <th>6</th>\n",
       "      <td>2013-05-15 14:17:50</td>\n",
       "      <td>Player submitted name</td>\n",
       "      <td>Carl</td>\n",
       "    </tr>\n",
       "    <tr>\n",
       "      <th>7</th>\n",
       "      <td>2013-05-15 14:17:50</td>\n",
       "      <td>Leaving sequence</td>\n",
       "      <td>slide2, moving forward.</td>\n",
       "    </tr>\n",
       "    <tr>\n",
       "      <th>8</th>\n",
       "      <td>2013-05-15 14:17:55</td>\n",
       "      <td>Player submitted name</td>\n",
       "      <td>Carl</td>\n",
       "    </tr>\n",
       "    <tr>\n",
       "      <th>9</th>\n",
       "      <td>2013-05-15 14:17:55</td>\n",
       "      <td>Leaving sequence</td>\n",
       "      <td>slide2b, moving forward.</td>\n",
       "    </tr>\n",
       "    <tr>\n",
       "      <th>10</th>\n",
       "      <td>2013-05-15 14:18:34</td>\n",
       "      <td>Player submitted name</td>\n",
       "      <td>Carl</td>\n",
       "    </tr>\n",
       "    <tr>\n",
       "      <th>11</th>\n",
       "      <td>2013-05-15 14:18:34</td>\n",
       "      <td>Leaving sequence</td>\n",
       "      <td>slide2c, moving forward.</td>\n",
       "    </tr>\n",
       "    <tr>\n",
       "      <th>12</th>\n",
       "      <td>2013-05-15 14:20:09</td>\n",
       "      <td>Player submitted name</td>\n",
       "      <td>Carl</td>\n",
       "    </tr>\n",
       "    <tr>\n",
       "      <th>13</th>\n",
       "      <td>2013-05-15 14:20:09</td>\n",
       "      <td>Leaving sequence</td>\n",
       "      <td>slide3, moving forward.</td>\n",
       "    </tr>\n",
       "    <tr>\n",
       "      <th>14</th>\n",
       "      <td>2013-05-15 14:20:13</td>\n",
       "      <td>Player submitted name</td>\n",
       "      <td>Carl</td>\n",
       "    </tr>\n",
       "    <tr>\n",
       "      <th>15</th>\n",
       "      <td>2013-05-15 14:20:13</td>\n",
       "      <td>Leaving sequence</td>\n",
       "      <td>slide4, moving forward.</td>\n",
       "    </tr>\n",
       "  </tbody>\n",
       "</table>\n",
       "</div>"
      ],
      "text/plain": [
       "           session_time             event_name  \\\n",
       "0   2013-05-15 14:17:26          Session Start   \n",
       "1   2013-05-15 14:17:26       Leaving sequence   \n",
       "2   2013-05-15 14:17:30  Player submitted name   \n",
       "3   2013-05-15 14:17:30       Leaving sequence   \n",
       "4   2013-05-15 14:17:31  Player submitted name   \n",
       "5   2013-05-15 14:17:31       Leaving sequence   \n",
       "6   2013-05-15 14:17:50  Player submitted name   \n",
       "7   2013-05-15 14:17:50       Leaving sequence   \n",
       "8   2013-05-15 14:17:55  Player submitted name   \n",
       "9   2013-05-15 14:17:55       Leaving sequence   \n",
       "10  2013-05-15 14:18:34  Player submitted name   \n",
       "11  2013-05-15 14:18:34       Leaving sequence   \n",
       "12  2013-05-15 14:20:09  Player submitted name   \n",
       "13  2013-05-15 14:20:09       Leaving sequence   \n",
       "14  2013-05-15 14:20:13  Player submitted name   \n",
       "15  2013-05-15 14:20:13       Leaving sequence   \n",
       "\n",
       "                     event_attribute  \n",
       "0                                NaN  \n",
       "1           loadXML, moving forward.  \n",
       "2                               Carl  \n",
       "3   InputNameScreen, moving forward.  \n",
       "4                               Carl  \n",
       "5       startScreen, moving forward.  \n",
       "6                               Carl  \n",
       "7            slide2, moving forward.  \n",
       "8                               Carl  \n",
       "9           slide2b, moving forward.  \n",
       "10                              Carl  \n",
       "11          slide2c, moving forward.  \n",
       "12                              Carl  \n",
       "13           slide3, moving forward.  \n",
       "14                              Carl  \n",
       "15           slide4, moving forward.  "
      ]
     },
     "execution_count": 27,
     "metadata": {},
     "output_type": "execute_result"
    }
   ],
   "source": [
    "pd.DataFrame(txt.get('data'))"
   ]
  },
  {
   "cell_type": "markdown",
   "metadata": {},
   "source": [
    "## Parsing XML file"
   ]
  },
  {
   "cell_type": "markdown",
   "metadata": {},
   "source": [
    "### Step 1. Load needed packages"
   ]
  },
  {
   "cell_type": "code",
   "execution_count": 10,
   "metadata": {},
   "outputs": [],
   "source": [
    "import xml.etree.ElementTree as et  # package for xml parsing"
   ]
  },
  {
   "cell_type": "markdown",
   "metadata": {},
   "source": [
    "### Step 2. Specify XML file name"
   ]
  },
  {
   "cell_type": "code",
   "execution_count": 11,
   "metadata": {},
   "outputs": [],
   "source": [
    "xml_file_name = '../data_for_week3/class_demo/structured_example_log.xml'  # note that this xml is structured to comply with ETS' VPA data model"
   ]
  },
  {
   "cell_type": "markdown",
   "metadata": {},
   "source": [
    "### Step 3. Parsing the xml tree"
   ]
  },
  {
   "cell_type": "code",
   "execution_count": 14,
   "metadata": {},
   "outputs": [
    {
     "data": {
      "text/plain": [
       "<xml.etree.ElementTree.ElementTree at 0x202ffe37220>"
      ]
     },
     "execution_count": 14,
     "metadata": {},
     "output_type": "execute_result"
    }
   ],
   "source": [
    "tree = et.parse(xml_file_name)\n",
    "root = tree.getroot()\n",
    "\n",
    "tree"
   ]
  },
  {
   "cell_type": "code",
   "execution_count": 13,
   "metadata": {},
   "outputs": [
    {
     "data": {
      "text/plain": [
       "1"
      ]
     },
     "execution_count": 13,
     "metadata": {},
     "output_type": "execute_result"
    }
   ],
   "source": [
    "# check how many child \n",
    "len(root)"
   ]
  },
  {
   "cell_type": "code",
   "execution_count": 16,
   "metadata": {},
   "outputs": [
    {
     "data": {
      "text/plain": [
       "<Element 'session' at 0x0000020281F8CAE0>"
      ]
     },
     "execution_count": 16,
     "metadata": {},
     "output_type": "execute_result"
    }
   ],
   "source": [
    "root[0]"
   ]
  },
  {
   "cell_type": "code",
   "execution_count": 15,
   "metadata": {},
   "outputs": [
    {
     "name": "stdout",
     "output_type": "stream",
     "text": [
      "sessionID , 7369 , 0\n",
      "teamID , hao_jiangang , 0\n",
      "playerID , None , 4\n",
      "attemptID , 17 , 0\n",
      "sessionExtData , None , 5\n",
      "eventSequence , None , 45\n"
     ]
    }
   ],
   "source": [
    "# find out the child of the root and the number of grandchild\n",
    "for chd in root[0]:\n",
    "    print(chd.tag,',',chd.text, ',',len(chd))"
   ]
  },
  {
   "cell_type": "code",
   "execution_count": 17,
   "metadata": {},
   "outputs": [
    {
     "data": {
      "text/plain": [
       "<Element 'playerID' at 0x0000020281F8CBD0>"
      ]
     },
     "execution_count": 17,
     "metadata": {},
     "output_type": "execute_result"
    }
   ],
   "source": [
    "# check the playerID child \n",
    "root[0][2]"
   ]
  },
  {
   "cell_type": "code",
   "execution_count": 18,
   "metadata": {},
   "outputs": [
    {
     "name": "stdout",
     "output_type": "stream",
     "text": [
      "pair , None , 2\n",
      "pair , None , 2\n",
      "pair , None , 2\n",
      "pair , None , 2\n"
     ]
    }
   ],
   "source": [
    "# check the child of playerID\n",
    "for chd in root[0][2]:\n",
    "    print(chd.tag,',',chd.text, ',',len(chd))"
   ]
  },
  {
   "cell_type": "code",
   "execution_count": 19,
   "metadata": {},
   "outputs": [
    {
     "data": {
      "text/plain": [
       "<Element 'pair' at 0x0000020281F8CC20>"
      ]
     },
     "execution_count": 19,
     "metadata": {},
     "output_type": "execute_result"
    }
   ],
   "source": [
    "# check the child of the child of playerID\n",
    "root[0][2][0]"
   ]
  },
  {
   "cell_type": "code",
   "execution_count": 20,
   "metadata": {},
   "outputs": [
    {
     "data": {
      "text/plain": [
       "<Element 'eventSequence' at 0x0000020281F8D5E0>"
      ]
     },
     "execution_count": 20,
     "metadata": {},
     "output_type": "execute_result"
    }
   ],
   "source": [
    "# check the eventSequence child\n",
    "root[0][5]"
   ]
  },
  {
   "cell_type": "code",
   "execution_count": 21,
   "metadata": {},
   "outputs": [
    {
     "name": "stdout",
     "output_type": "stream",
     "text": [
      "event , None , 7\n",
      "event , None , 8\n",
      "event , None , 8\n",
      "event , None , 7\n",
      "event , None , 7\n",
      "event , None , 7\n",
      "event , None , 7\n",
      "event , None , 8\n",
      "event , None , 8\n",
      "event , None , 7\n",
      "event , None , 7\n",
      "event , None , 8\n",
      "event , None , 8\n",
      "event , None , 8\n",
      "event , None , 8\n",
      "event , None , 7\n",
      "event , None , 8\n",
      "event , None , 8\n",
      "event , None , 8\n",
      "event , None , 8\n",
      "event , None , 8\n",
      "event , None , 8\n",
      "event , None , 8\n",
      "event , None , 8\n",
      "event , None , 7\n",
      "event , None , 7\n",
      "event , None , 7\n",
      "event , None , 7\n",
      "event , None , 7\n",
      "event , None , 7\n",
      "event , None , 7\n",
      "event , None , 7\n",
      "event , None , 7\n",
      "event , None , 7\n",
      "event , None , 7\n",
      "event , None , 8\n",
      "event , None , 8\n",
      "event , None , 8\n",
      "event , None , 8\n",
      "event , None , 8\n",
      "event , None , 8\n",
      "event , None , 8\n",
      "event , None , 8\n",
      "event , None , 8\n",
      "event , None , 8\n"
     ]
    }
   ],
   "source": [
    "for chd in root[0][5]:\n",
    "    print(chd.tag,',',chd.text, ',',len(chd))"
   ]
  },
  {
   "cell_type": "code",
   "execution_count": 22,
   "metadata": {},
   "outputs": [
    {
     "data": {
      "text/plain": [
       "<Element 'event' at 0x0000020281F8D630>"
      ]
     },
     "execution_count": 22,
     "metadata": {},
     "output_type": "execute_result"
    }
   ],
   "source": [
    "# check the first event\n",
    "root[0][5][0]"
   ]
  },
  {
   "cell_type": "code",
   "execution_count": 23,
   "metadata": {},
   "outputs": [
    {
     "name": "stdout",
     "output_type": "stream",
     "text": [
      "eventName , chat , 0\n",
      "eventStartTime , 2019-11-06T14:18:31Z , 0\n",
      "eventEndTime , 2019-11-06T14:18:31Z , 0\n",
      "eventBy , jiangang , 0\n",
      "eventTo , others , 0\n",
      "eventResult , hi , 0\n",
      "eventLocation , slide1-step0 , 0\n"
     ]
    }
   ],
   "source": [
    "for chd in root[0][5][0]:\n",
    "    print(chd.tag,',',chd.text, ',',len(chd))"
   ]
  },
  {
   "cell_type": "markdown",
   "metadata": {},
   "source": [
    "## Schema validation "
   ]
  },
  {
   "cell_type": "code",
   "execution_count": null,
   "metadata": {},
   "outputs": [],
   "source": [
    "import epcal as ep\n",
    "import json, sys"
   ]
  },
  {
   "cell_type": "code",
   "execution_count": null,
   "metadata": {},
   "outputs": [],
   "source": [
    "json_file = '../data_for_week3/class_demo/week3_homework.json'\n",
    "schema_file = '../data_for_week3/class_demo/ETS_VPA_multi_schema.json'"
   ]
  },
  {
   "cell_type": "code",
   "execution_count": null,
   "metadata": {},
   "outputs": [],
   "source": [
    "ep.json_validation(json_file, schema_file)"
   ]
  },
  {
   "cell_type": "code",
   "execution_count": null,
   "metadata": {},
   "outputs": [],
   "source": [
    "# convert json to dataframe using our EPCAL analytics package\n",
    "\n",
    "df = ep.json_to_dataframe(json_file)\n"
   ]
  },
  {
   "cell_type": "code",
   "execution_count": null,
   "metadata": {},
   "outputs": [],
   "source": [
    "df.get_digraph_plot('event_name')"
   ]
  },
  {
   "cell_type": "code",
   "execution_count": null,
   "metadata": {},
   "outputs": [],
   "source": []
  }
 ],
 "metadata": {
  "kernelspec": {
   "display_name": "Python 3",
   "language": "python",
   "name": "python3"
  },
  "language_info": {
   "codemirror_mode": {
    "name": "ipython",
    "version": 3
   },
   "file_extension": ".py",
   "mimetype": "text/x-python",
   "name": "python",
   "nbconvert_exporter": "python",
   "pygments_lexer": "ipython3",
   "version": "3.8.8"
  }
 },
 "nbformat": 4,
 "nbformat_minor": 4
}
