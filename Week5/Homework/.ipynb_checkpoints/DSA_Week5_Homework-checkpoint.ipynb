{
 "cells": [
  {
   "cell_type": "code",
   "execution_count": 1,
   "id": "6d089f32-a02e-4396-bc48-6c1d3c0aea60",
   "metadata": {},
   "outputs": [],
   "source": [
    "import numpy as np\n",
    "import pandas as pd"
   ]
  },
  {
   "cell_type": "code",
   "execution_count": 2,
   "id": "8a12680c-4e79-42bc-9eb9-0701a7b139c8",
   "metadata": {},
   "outputs": [],
   "source": [
    "df = pd.read_csv('/Users/olivne/Desktop/PSTRE_syntheticData.csv', delimiter=\"\\t\")"
   ]
  },
  {
   "cell_type": "code",
   "execution_count": 6,
   "id": "5bae03b7-f00b-4039-b947-40a1d437d767",
   "metadata": {},
   "outputs": [
    {
     "data": {
      "text/html": [
       "<div>\n",
       "<style scoped>\n",
       "    .dataframe tbody tr th:only-of-type {\n",
       "        vertical-align: middle;\n",
       "    }\n",
       "\n",
       "    .dataframe tbody tr th {\n",
       "        vertical-align: top;\n",
       "    }\n",
       "\n",
       "    .dataframe thead th {\n",
       "        text-align: right;\n",
       "    }\n",
       "</style>\n",
       "<table border=\"1\" class=\"dataframe\">\n",
       "  <thead>\n",
       "    <tr style=\"text-align: right;\">\n",
       "      <th></th>\n",
       "      <th>TestTakerID</th>\n",
       "      <th>Timestamp</th>\n",
       "      <th>Coding</th>\n",
       "    </tr>\n",
       "  </thead>\n",
       "  <tbody>\n",
       "    <tr>\n",
       "      <th>0</th>\n",
       "      <td>1001042</td>\n",
       "      <td>0</td>\n",
       "      <td>START</td>\n",
       "    </tr>\n",
       "    <tr>\n",
       "      <th>1</th>\n",
       "      <td>1001042</td>\n",
       "      <td>44985</td>\n",
       "      <td>SS_Se</td>\n",
       "    </tr>\n",
       "    <tr>\n",
       "      <th>2</th>\n",
       "      <td>1001042</td>\n",
       "      <td>55852</td>\n",
       "      <td>SS_Se_OK</td>\n",
       "    </tr>\n",
       "    <tr>\n",
       "      <th>3</th>\n",
       "      <td>1001042</td>\n",
       "      <td>55950</td>\n",
       "      <td>SS_Type_2</td>\n",
       "    </tr>\n",
       "    <tr>\n",
       "      <th>4</th>\n",
       "      <td>1001042</td>\n",
       "      <td>66546</td>\n",
       "      <td>E</td>\n",
       "    </tr>\n",
       "    <tr>\n",
       "      <th>...</th>\n",
       "      <td>...</td>\n",
       "      <td>...</td>\n",
       "      <td>...</td>\n",
       "    </tr>\n",
       "    <tr>\n",
       "      <th>10991</th>\n",
       "      <td>4076375</td>\n",
       "      <td>82216</td>\n",
       "      <td>SS</td>\n",
       "    </tr>\n",
       "    <tr>\n",
       "      <th>10992</th>\n",
       "      <td>4076375</td>\n",
       "      <td>107365</td>\n",
       "      <td>E</td>\n",
       "    </tr>\n",
       "    <tr>\n",
       "      <th>10993</th>\n",
       "      <td>4076375</td>\n",
       "      <td>112452</td>\n",
       "      <td>Next</td>\n",
       "    </tr>\n",
       "    <tr>\n",
       "      <th>10994</th>\n",
       "      <td>4076375</td>\n",
       "      <td>113670</td>\n",
       "      <td>Next_OK</td>\n",
       "    </tr>\n",
       "    <tr>\n",
       "      <th>10995</th>\n",
       "      <td>4076375</td>\n",
       "      <td>113672</td>\n",
       "      <td>END</td>\n",
       "    </tr>\n",
       "  </tbody>\n",
       "</table>\n",
       "<p>10996 rows × 3 columns</p>\n",
       "</div>"
      ],
      "text/plain": [
       "       TestTakerID  Timestamp     Coding\n",
       "0          1001042          0      START\n",
       "1          1001042      44985      SS_Se\n",
       "2          1001042      55852   SS_Se_OK\n",
       "3          1001042      55950  SS_Type_2\n",
       "4          1001042      66546          E\n",
       "...            ...        ...        ...\n",
       "10991      4076375      82216         SS\n",
       "10992      4076375     107365          E\n",
       "10993      4076375     112452       Next\n",
       "10994      4076375     113670    Next_OK\n",
       "10995      4076375     113672        END\n",
       "\n",
       "[10996 rows x 3 columns]"
      ]
     },
     "execution_count": 6,
     "metadata": {},
     "output_type": "execute_result"
    }
   ],
   "source": [
    "df"
   ]
  },
  {
   "cell_type": "code",
   "execution_count": 15,
   "id": "d5031a57-2d20-42a3-9dfa-122d72a6d3ca",
   "metadata": {},
   "outputs": [
    {
     "ename": "KeyError",
     "evalue": "\"None of ['TestTakerID'] are in the columns\"",
     "output_type": "error",
     "traceback": [
      "\u001b[0;31m---------------------------------------------------------------------------\u001b[0m",
      "\u001b[0;31mKeyError\u001b[0m                                  Traceback (most recent call last)",
      "\u001b[0;32m/var/folders/3k/z6rf4cwj2b1bs57qshd9j_k4fbwv1r/T/ipykernel_53668/3779386867.py\u001b[0m in \u001b[0;36m<module>\u001b[0;34m\u001b[0m\n\u001b[0;32m----> 1\u001b[0;31m \u001b[0mpd\u001b[0m\u001b[0;34m.\u001b[0m\u001b[0mDataFrame\u001b[0m\u001b[0;34m(\u001b[0m\u001b[0mdf\u001b[0m\u001b[0;34m[\u001b[0m\u001b[0mdf\u001b[0m\u001b[0;34m[\u001b[0m\u001b[0;34m\"Coding\"\u001b[0m\u001b[0;34m]\u001b[0m \u001b[0;34m==\u001b[0m \u001b[0;34m\"END\"\u001b[0m\u001b[0;34m]\u001b[0m\u001b[0;34m[\u001b[0m\u001b[0;34m\"Timestamp\"\u001b[0m\u001b[0;34m]\u001b[0m\u001b[0;34m)\u001b[0m\u001b[0;34m.\u001b[0m\u001b[0mset_index\u001b[0m\u001b[0;34m(\u001b[0m\u001b[0;34m\"TestTakerID\"\u001b[0m\u001b[0;34m)\u001b[0m\u001b[0;34m\u001b[0m\u001b[0;34m\u001b[0m\u001b[0m\n\u001b[0m",
      "\u001b[0;32m~/opt/miniconda3/envs/dsa/lib/python3.9/site-packages/pandas/util/_decorators.py\u001b[0m in \u001b[0;36mwrapper\u001b[0;34m(*args, **kwargs)\u001b[0m\n\u001b[1;32m    309\u001b[0m                     \u001b[0mstacklevel\u001b[0m\u001b[0;34m=\u001b[0m\u001b[0mstacklevel\u001b[0m\u001b[0;34m,\u001b[0m\u001b[0;34m\u001b[0m\u001b[0;34m\u001b[0m\u001b[0m\n\u001b[1;32m    310\u001b[0m                 )\n\u001b[0;32m--> 311\u001b[0;31m             \u001b[0;32mreturn\u001b[0m \u001b[0mfunc\u001b[0m\u001b[0;34m(\u001b[0m\u001b[0;34m*\u001b[0m\u001b[0margs\u001b[0m\u001b[0;34m,\u001b[0m \u001b[0;34m**\u001b[0m\u001b[0mkwargs\u001b[0m\u001b[0;34m)\u001b[0m\u001b[0;34m\u001b[0m\u001b[0;34m\u001b[0m\u001b[0m\n\u001b[0m\u001b[1;32m    312\u001b[0m \u001b[0;34m\u001b[0m\u001b[0m\n\u001b[1;32m    313\u001b[0m         \u001b[0;32mreturn\u001b[0m \u001b[0mwrapper\u001b[0m\u001b[0;34m\u001b[0m\u001b[0;34m\u001b[0m\u001b[0m\n",
      "\u001b[0;32m~/opt/miniconda3/envs/dsa/lib/python3.9/site-packages/pandas/core/frame.py\u001b[0m in \u001b[0;36mset_index\u001b[0;34m(self, keys, drop, append, inplace, verify_integrity)\u001b[0m\n\u001b[1;32m   5449\u001b[0m \u001b[0;34m\u001b[0m\u001b[0m\n\u001b[1;32m   5450\u001b[0m         \u001b[0;32mif\u001b[0m \u001b[0mmissing\u001b[0m\u001b[0;34m:\u001b[0m\u001b[0;34m\u001b[0m\u001b[0;34m\u001b[0m\u001b[0m\n\u001b[0;32m-> 5451\u001b[0;31m             \u001b[0;32mraise\u001b[0m \u001b[0mKeyError\u001b[0m\u001b[0;34m(\u001b[0m\u001b[0;34mf\"None of {missing} are in the columns\"\u001b[0m\u001b[0;34m)\u001b[0m\u001b[0;34m\u001b[0m\u001b[0;34m\u001b[0m\u001b[0m\n\u001b[0m\u001b[1;32m   5452\u001b[0m \u001b[0;34m\u001b[0m\u001b[0m\n\u001b[1;32m   5453\u001b[0m         \u001b[0;32mif\u001b[0m \u001b[0minplace\u001b[0m\u001b[0;34m:\u001b[0m\u001b[0;34m\u001b[0m\u001b[0;34m\u001b[0m\u001b[0m\n",
      "\u001b[0;31mKeyError\u001b[0m: \"None of ['TestTakerID'] are in the columns\""
     ]
    }
   ],
   "source": [
    "pd.Datdf[df[\"Coding\"] == \"END\"][\"Timestamp\"].set_index(\"TestTakerID\")"
   ]
  },
  {
   "cell_type": "code",
   "execution_count": 13,
   "id": "5c9cbac0-46fa-4739-b934-4b9dc16536b3",
   "metadata": {},
   "outputs": [
    {
     "data": {
      "text/plain": [
       "9        105382\n",
       "25       194117\n",
       "37       171958\n",
       "44        75123\n",
       "55       299319\n",
       "          ...  \n",
       "10959    212910\n",
       "10968    185890\n",
       "10972    116160\n",
       "10981    179823\n",
       "10995    113672\n",
       "Name: Timestamp, Length: 1079, dtype: int64"
      ]
     },
     "execution_count": 13,
     "metadata": {},
     "output_type": "execute_result"
    }
   ],
   "source": [
    "df[df[\"Coding\"] == \"END\"][\"Timestamp\"]"
   ]
  },
  {
   "cell_type": "code",
   "execution_count": 5,
   "id": "c53b02b9-133e-499d-b4bf-620e0cd221a9",
   "metadata": {},
   "outputs": [
    {
     "ename": "NameError",
     "evalue": "name 'entry' is not defined",
     "output_type": "error",
     "traceback": [
      "\u001b[0;31m---------------------------------------------------------------------------\u001b[0m",
      "\u001b[0;31mNameError\u001b[0m                                 Traceback (most recent call last)",
      "\u001b[0;32m/var/folders/3k/z6rf4cwj2b1bs57qshd9j_k4fbwv1r/T/ipykernel_53668/472154180.py\u001b[0m in \u001b[0;36m<module>\u001b[0;34m\u001b[0m\n\u001b[1;32m      1\u001b[0m \u001b[0;31m# entry = events_by_id[1]\u001b[0m\u001b[0;34m\u001b[0m\u001b[0;34m\u001b[0m\u001b[0m\n\u001b[1;32m      2\u001b[0m \u001b[0;31m# np.diff(entry[1][\"Timestamp\"].values), entry[1][\"Coding\"][1:].values\u001b[0m\u001b[0;34m\u001b[0m\u001b[0;34m\u001b[0m\u001b[0m\n\u001b[0;32m----> 3\u001b[0;31m \u001b[0muser_events\u001b[0m \u001b[0;34m=\u001b[0m \u001b[0mentry\u001b[0m\u001b[0;34m[\u001b[0m\u001b[0;36m1\u001b[0m\u001b[0;34m]\u001b[0m\u001b[0;34m[\u001b[0m\u001b[0;34m\"Coding\"\u001b[0m\u001b[0;34m]\u001b[0m\u001b[0;34m.\u001b[0m\u001b[0mvalues\u001b[0m\u001b[0;34m\u001b[0m\u001b[0;34m\u001b[0m\u001b[0m\n\u001b[0m\u001b[1;32m      4\u001b[0m \u001b[0maction_sequence\u001b[0m \u001b[0;34m=\u001b[0m \u001b[0;34m[\u001b[0m\u001b[0mentry\u001b[0m\u001b[0;34m[\u001b[0m\u001b[0;36m1\u001b[0m\u001b[0;34m]\u001b[0m\u001b[0;34m[\u001b[0m\u001b[0;34m\"Coding\"\u001b[0m\u001b[0;34m]\u001b[0m \u001b[0;32mfor\u001b[0m \u001b[0mentry\u001b[0m \u001b[0;32min\u001b[0m \u001b[0mevents_by_id\u001b[0m\u001b[0;34m]\u001b[0m\u001b[0;34m\u001b[0m\u001b[0;34m\u001b[0m\u001b[0m\n\u001b[1;32m      5\u001b[0m \u001b[0;34m\u001b[0m\u001b[0m\n",
      "\u001b[0;31mNameError\u001b[0m: name 'entry' is not defined"
     ]
    }
   ],
   "source": [
    "# entry = events_by_id[1]\n",
    "# np.diff(entry[1][\"Timestamp\"].values), entry[1][\"Coding\"][1:].values\n",
    "user_events = entry[1][\"Coding\"].values\n",
    "action_sequence = [entry[1][\"Coding\"] for entry in events_by_id]\n",
    "\n",
    "# ... or use pandas DataFrame."
   ]
  },
  {
   "cell_type": "code",
   "execution_count": null,
   "id": "2db400e8-c609-49c9-9470-f1f374b4b0b2",
   "metadata": {},
   "outputs": [],
   "source": [
    "# action_sequence"
   ]
  },
  {
   "cell_type": "code",
   "execution_count": null,
   "id": "33e00f86-2776-43f2-8a45-21abf2593f47",
   "metadata": {},
   "outputs": [],
   "source": [
    "# Extract all bigrams from an event sequence.\n",
    "# Using iteration: # [(user_events[i], user_events[i + 1]) for i in range(len(user_events) - 1)]\n",
    "# Using zip:\n",
    "# list(zip(user_events[:-1], user_events[1:]))"
   ]
  },
  {
   "cell_type": "code",
   "execution_count": null,
   "id": "6c212a0f-5bb3-4f00-af73-40ea968e76aa",
   "metadata": {},
   "outputs": [],
   "source": [
    "bigram = [list(zip(user_events[:-1], user_events[1:])) for user_events in action_sequence]"
   ]
  },
  {
   "cell_type": "code",
   "execution_count": null,
   "id": "295944e7-ad13-4697-aa9e-545a757aa00e",
   "metadata": {},
   "outputs": [],
   "source": [
    "bigram_flattened = [x for users_events in bigram for x in users_events]"
   ]
  },
  {
   "cell_type": "code",
   "execution_count": null,
   "id": "6fa68cc7-ce4a-421b-9b22-879a868a6d05",
   "metadata": {},
   "outputs": [],
   "source": [
    "# Count bigram frequencies.\n",
    "\n",
    "# 1. Solution with pandas count()... - Natalie?\n",
    "# pd.DataFrame(bigram_flattened).count((\"START\", \"SS_Se\")) syntax??\n",
    "\n",
    "# 2. Use a dictionary of element->#occurrences and loop over the list.\n",
    "# count = {}\n",
    "# for element in bigram_flattened:\n",
    "#     if element not in count:\n",
    "#         count[element] = 0\n",
    "#     count[element] += 1\n",
    "    \n",
    "import collections\n",
    "count = collections.Counter(bigram_flattened)"
   ]
  },
  {
   "cell_type": "code",
   "execution_count": null,
   "id": "6e52d298-0dbf-4971-ad72-2c3aac41dcb8",
   "metadata": {},
   "outputs": [],
   "source": [
    "len(count)"
   ]
  },
  {
   "cell_type": "code",
   "execution_count": null,
   "id": "d40e1c17-7957-4c3a-869e-b624d66bd6ab",
   "metadata": {},
   "outputs": [],
   "source": [
    "import matplotlib.pyplot as plt\n",
    "\n",
    "plt.hist(count.values(), 50);\n",
    "plt.xlabel(\"Bigram Frequency\")\n",
    "plt.ylabel(\"# Bigrams\");"
   ]
  },
  {
   "cell_type": "code",
   "execution_count": null,
   "id": "8e9f9a58-1d5b-4058-a3ae-d727767799ec",
   "metadata": {},
   "outputs": [],
   "source": [
    "action_sequence[0]"
   ]
  },
  {
   "cell_type": "code",
   "execution_count": null,
   "id": "81028a2b-d2a7-4f15-9666-3278f4eda030",
   "metadata": {},
   "outputs": [],
   "source": [
    "from nltk import ngrams\n",
    "\n",
    "sentence = 'this is a foo bar sentences and i want to ngramize it'\n",
    "\n",
    "n = 6\n",
    "sixgrams = ngrams(sentence.split(), n)\n",
    "\n",
    "for grams in sixgrams:\n",
    "  print grams"
   ]
  }
 ],
 "metadata": {
  "kernelspec": {
   "display_name": "Python 3",
   "language": "python",
   "name": "python3"
  },
  "language_info": {
   "codemirror_mode": {
    "name": "ipython",
    "version": 3
   },
   "file_extension": ".py",
   "mimetype": "text/x-python",
   "name": "python",
   "nbconvert_exporter": "python",
   "pygments_lexer": "ipython3",
   "version": "3.8.8"
  }
 },
 "nbformat": 4,
 "nbformat_minor": 5
}
