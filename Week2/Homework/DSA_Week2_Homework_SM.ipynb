{
 "cells": [
  {
   "cell_type": "code",
   "execution_count": null,
   "metadata": {},
   "outputs": [],
   "source": [
    "import numpy as np"
   ]
  },
  {
   "cell_type": "code",
   "execution_count": 64,
   "metadata": {},
   "outputs": [
    {
     "name": "stdout",
     "output_type": "stream",
     "text": [
      "[None None None None 1 None None None None None]\n"
     ]
    }
   ],
   "source": [
    "#1. Create a null array of size 10 but the fifth value which is 1\n",
    "\n",
    "nullList = [None] * 10\n",
    "nullList[4] = 1\n",
    "print (np.array(nullList))\n"
   ]
  },
  {
   "cell_type": "code",
   "execution_count": 32,
   "metadata": {},
   "outputs": [
    {
     "name": "stdout",
     "output_type": "stream",
     "text": [
      "[0, 1, 2, 3, 4, 5, 6, 7, 8, 9]\n",
      "[9 8 7 6 5 4 3 2 1 0]\n"
     ]
    }
   ],
   "source": [
    "#2. Reverse a above created array (first element becomes last)\n",
    "\n",
    "\n",
    "list1 = [0,1,2,3,4,5,6,7,8,9]\n",
    "j = len(list1) - 1\n",
    "#reverseList = [None] * j\n",
    "print (list1)\n",
    "#print (reversed(list1))\n",
    "reverseList = list1[:: -1] # what is :\n",
    "\n",
    "    \n",
    "print (np.array(reverseList))\n",
    "\n"
   ]
  },
  {
   "cell_type": "code",
   "execution_count": 36,
   "metadata": {},
   "outputs": [
    {
     "name": "stdout",
     "output_type": "stream",
     "text": [
      "[[0 1 2]\n",
      " [3 4 5]\n",
      " [6 7 8]]\n"
     ]
    }
   ],
   "source": [
    "#3. Create a 3x3 matrix with values ranging from 0 to 8\n",
    "#arange and reshape\n",
    "matrixArray = np.arange(9).reshape(3,3)\n",
    "print(matrixArray)"
   ]
  },
  {
   "cell_type": "code",
   "execution_count": 112,
   "metadata": {},
   "outputs": [
    {
     "name": "stdout",
     "output_type": "stream",
     "text": [
      "[1 2 0 0 4 0]\n",
      "(array([0, 1, 4], dtype=int64),)\n",
      "[0 1 4]\n"
     ]
    }
   ],
   "source": [
    "#4. Find indices of non-zero elements from [1,2,0,0,4,0]\n",
    "\n",
    "npArray = np.array([1,2,0,0,4,0])\n",
    "print (npArray)\n",
    "print(np.nonzero(npArray))\n",
    "print(np.where(npArray != 0)[0]) #boolean array"
   ]
  },
  {
   "cell_type": "code",
   "execution_count": 49,
   "metadata": {},
   "outputs": [
    {
     "name": "stdout",
     "output_type": "stream",
     "text": [
      "[[0.58653712 0.11147733 0.90295137]\n",
      " [0.00141086 0.3024649  0.2397256 ]\n",
      " [0.43957129 0.48785221 0.92830111]]\n"
     ]
    }
   ],
   "source": [
    "#5. Create a 3x3x3 array with random values\n",
    "#np.random.random(3)\n",
    "\n",
    "randomArr = np.random.random(size=(3,3))\n",
    "print (randomArr)"
   ]
  },
  {
   "cell_type": "code",
   "execution_count": 88,
   "metadata": {},
   "outputs": [
    {
     "name": "stdout",
     "output_type": "stream",
     "text": [
      "[[145  22  40  73  39  31  15  32  83  33]\n",
      " [ 67  91  27  35 113 115  91  19  65  47]\n",
      " [ 58  42  35 145 128  23  46  28  56  19]\n",
      " [134 129 106  91 135 140  37  26  49  65]\n",
      " [ 89 131 100 125  56 107 105  91  55  94]\n",
      " [ 85 146 101 114  19  31  20  25  51  69]\n",
      " [ 60  98 122  32  68 109 109  20  67  29]\n",
      " [ 42  93  56 101  24  23  61  40 149 112]\n",
      " [ 47  70 125  42  46  34 126 147 125 124]\n",
      " [ 95 147  95  84  64  67 113  34 110  63]]\n",
      "min val\n",
      "15\n",
      "max val\n",
      "149\n"
     ]
    }
   ],
   "source": [
    "#6. Create a 10x10 array with random values and find the minimum and maximum values\n",
    "\n",
    "ranArr = np.random.randint(low=15,high=150, size=(10,10))\n",
    "print (ranArr)\n",
    "\n",
    "#min\n",
    "minVal = np.min(ranArr)\n",
    "print('min val')\n",
    "print(minVal)\n",
    "#max\n",
    "maxVal = np.max(ranArr)\n",
    "print('max val')\n",
    "print(maxVal)"
   ]
  },
  {
   "cell_type": "code",
   "execution_count": 114,
   "metadata": {},
   "outputs": [
    {
     "name": "stdout",
     "output_type": "stream",
     "text": [
      "[0.0836084  0.23720949 0.71044693 0.41387301 0.35790188 0.34283477\n",
      " 0.55848034 0.25428979 0.69613915 0.84849965 0.12292982 0.92950494\n",
      " 0.63580024 0.1197492  0.63493429 0.68400892 0.81755154 0.03362766\n",
      " 0.38426592 0.54033581 0.04670356 0.5175158  0.66327544 0.61938394\n",
      " 0.89114234 0.67012748 0.32213917 0.07616656 0.17130704 0.30364352]\n",
      "0.4562465530570814\n"
     ]
    }
   ],
   "source": [
    "#7. Create a random vector of size 30 and find the mean value\n",
    "\n",
    "testVector = np.random.random(30)\n",
    "print(testVector)\n",
    "print(np.mean(testVector))"
   ]
  },
  {
   "cell_type": "code",
   "execution_count": 121,
   "metadata": {},
   "outputs": [
    {
     "name": "stdout",
     "output_type": "stream",
     "text": [
      "original array\n",
      "[[1. 1. 1. 1. 1.]\n",
      " [1. 1. 1. 1. 1.]\n",
      " [1. 1. 1. 1. 1.]\n",
      " [1. 1. 1. 1. 1.]\n",
      " [1. 1. 1. 1. 1.]]\n",
      "decorated array\n",
      "[[1. 1. 1. 1. 1.]\n",
      " [1. 0. 0. 0. 1.]\n",
      " [1. 0. 0. 0. 1.]\n",
      " [1. 0. 0. 0. 1.]\n",
      " [1. 1. 1. 1. 1.]]\n",
      "[[1. 1. 1. 1. 1. 1. 1. 1. 1. 1.]\n",
      " [1. 0. 0. 0. 0. 0. 0. 0. 0. 1.]\n",
      " [1. 0. 0. 0. 0. 0. 0. 0. 0. 1.]\n",
      " [1. 0. 0. 0. 0. 0. 0. 0. 0. 1.]\n",
      " [1. 0. 0. 0. 0. 0. 0. 0. 0. 1.]\n",
      " [1. 0. 0. 0. 0. 0. 0. 0. 0. 1.]\n",
      " [1. 0. 0. 0. 0. 0. 0. 0. 0. 1.]\n",
      " [1. 0. 0. 0. 0. 0. 0. 0. 0. 1.]\n",
      " [1. 0. 0. 0. 0. 0. 0. 0. 0. 1.]\n",
      " [1. 1. 1. 1. 1. 1. 1. 1. 1. 1.]]\n"
     ]
    }
   ],
   "source": [
    "#8. Create a 2d array with 1 on the border and 0 inside\n",
    "\n",
    "arr = np.ones((5,5)) # array of ones\n",
    "print(\"original array\")\n",
    "print(arr)\n",
    "#arr[1:-1]= 0\n",
    "\n",
    "print(\"decorated array\")\n",
    "arr[1:-1, 1:-1] = 0\n",
    "print(arr)\n",
    "\n",
    "\n",
    "def border_array(m, n):\n",
    "    arr = np.zeros((m, n))\n",
    "    arr[0] = 1\n",
    "    arr[-1] = 1\n",
    "    arr[:,0] = 1\n",
    "    arr[:, -1] =1\n",
    "    return arr\n",
    "\n",
    "print(border_array(10, 10))"
   ]
  },
  {
   "cell_type": "code",
   "execution_count": 77,
   "metadata": {},
   "outputs": [
    {
     "name": "stdout",
     "output_type": "stream",
     "text": [
      "array 5 x 3\n",
      "[[0.3847015  0.91501485 0.64717481]\n",
      " [0.20468086 0.48359462 0.70629949]\n",
      " [0.32697969 0.37178329 0.13996332]\n",
      " [0.61904547 0.34239293 0.50192561]\n",
      " [0.67699956 0.24269142 0.60531423]]\n",
      "array 3 x 2\n",
      "[[0.38108379 0.23092281]\n",
      " [0.26189485 0.07659725]\n",
      " [0.31951031 0.63535472]]\n",
      "array multiple\n",
      "[[0.59302021 0.57010954]\n",
      " [0.43032147 0.53305821]\n",
      " [0.26669451 0.192911  ]\n",
      " [0.48594955 0.48807888]\n",
      " [0.51495733 0.55951339]]\n"
     ]
    }
   ],
   "source": [
    "#9. Multiply a 5x3 matrix by a 3x2 matrix (real matrix product)\n",
    "\n",
    "arr53 = np.random.random(size=(5,3))\n",
    "print(\"array 5 x 3\")\n",
    "print(arr53)\n",
    "print(\"array 3 x 2\")\n",
    "arr32 = np.random.random(size=(3,2))\n",
    "print(arr32)\n",
    "\n",
    "arrmulti = np.dot(arr53, arr32)\n",
    "print(\"arrayproduct\")\n",
    "print(arrmulti)"
   ]
  },
  {
   "cell_type": "code",
   "execution_count": 122,
   "metadata": {},
   "outputs": [
    {
     "name": "stdout",
     "output_type": "stream",
     "text": [
      "[[0.52327598 0.58981415 0.23165719 0.84632964 0.80852157 0.37647988\n",
      "  0.93360992]\n",
      " [0.21814171 0.3246802  0.45518113 0.77764639 0.02008025 0.4281815\n",
      "  0.51036011]\n",
      " [0.71013764 0.1584939  0.10309694 0.64268164 0.02927316 0.67060726\n",
      "  0.64259187]\n",
      " [0.65347999 0.6610821  0.49001679 0.46831183 0.72136191 0.46673191\n",
      "  0.1562324 ]\n",
      " [0.08253129 0.76673182 0.93535769 0.79207066 0.77655754 0.77008543\n",
      "  0.79948128]\n",
      " [0.95514296 0.3742586  0.55046778 0.43440886 0.71576407 0.19413464\n",
      "  0.25553077]\n",
      " [0.82907328 0.35326289 0.41798851 0.00396509 0.1180566  0.60635917\n",
      "  0.75370277]]\n",
      "Integer Part 1\n",
      "[[0. 0. 0. 0. 0. 0. 0.]\n",
      " [0. 0. 0. 0. 0. 0. 0.]\n",
      " [0. 0. 0. 0. 0. 0. 0.]\n",
      " [0. 0. 0. 0. 0. 0. 0.]\n",
      " [0. 0. 0. 0. 0. 0. 0.]\n",
      " [0. 0. 0. 0. 0. 0. 0.]\n",
      " [0. 0. 0. 0. 0. 0. 0.]]\n",
      "[[1. 1. 0. 1. 1. 0. 1.]\n",
      " [0. 0. 0. 1. 0. 0. 1.]\n",
      " [1. 0. 0. 1. 0. 1. 1.]\n",
      " [1. 1. 0. 0. 1. 0. 0.]\n",
      " [0. 1. 1. 1. 1. 1. 1.]\n",
      " [1. 0. 1. 0. 1. 0. 0.]\n",
      " [1. 0. 0. 0. 0. 1. 1.]]\n",
      "Integer Part 2\n",
      "[[1. 1. 1. 1. 1. 1. 1.]\n",
      " [1. 1. 1. 1. 1. 1. 1.]\n",
      " [1. 1. 1. 1. 1. 1. 1.]\n",
      " [1. 1. 1. 1. 1. 1. 1.]\n",
      " [1. 1. 1. 1. 1. 1. 1.]\n",
      " [1. 1. 1. 1. 1. 1. 1.]\n",
      " [1. 1. 1. 1. 1. 1. 1.]]\n",
      "Integer Part 3\n",
      "[[0. 0. 0. 0. 0. 0. 0.]\n",
      " [0. 0. 0. 0. 0. 0. 0.]\n",
      " [0. 0. 0. 0. 0. 0. 0.]\n",
      " [0. 0. 0. 0. 0. 0. 0.]\n",
      " [0. 0. 0. 0. 0. 0. 0.]\n",
      " [0. 0. 0. 0. 0. 0. 0.]\n",
      " [0. 0. 0. 0. 0. 0. 0.]]\n"
     ]
    }
   ],
   "source": [
    "#10. Extract the integer part of a random array\n",
    "arr77 = np.random.random(size=(7,7))\n",
    "print (arr77)\n",
    "print(\"Integer Part 1\")\n",
    "\n",
    "print(np.trunc(arr77))\n",
    "\n",
    "print(np.rint(arr77))\n",
    "\n",
    "print(\"Integer Part 2\")\n",
    "arrInt = np.ceil(arr77)\n",
    "print(arrInt)\n",
    "\n",
    "print(\"Integer Part 3\")\n",
    "print(np.floor(arr77))\n"
   ]
  },
  {
   "cell_type": "code",
   "execution_count": 99,
   "metadata": {},
   "outputs": [
    {
     "name": "stdout",
     "output_type": "stream",
     "text": [
      "Original array:\n",
      "[[0. 0. 0. 0. 0.]\n",
      " [0. 0. 0. 0. 0.]\n",
      " [0. 0. 0. 0. 0.]\n",
      " [0. 0. 0. 0. 0.]\n",
      " [0. 0. 0. 0. 0.]]\n",
      "Row values ranging from 0 to 4.\n",
      "[[0. 1. 2. 3. 4.]\n",
      " [0. 1. 2. 3. 4.]\n",
      " [0. 1. 2. 3. 4.]\n",
      " [0. 1. 2. 3. 4.]\n",
      " [0. 1. 2. 3. 4.]]\n"
     ]
    }
   ],
   "source": [
    "#11. Create a 5x5 matrix with row values ranging from 0 to 4\n",
    "arr55 = np.zeros((5,5))\n",
    "print(\"Original array\")\n",
    "print(arr55)\n",
    "print(\"values 0 - 4\")\n",
    "arr55 += np.arange(5) #really sleek\n",
    "print(arr55)"
   ]
  },
  {
   "cell_type": "code",
   "execution_count": 101,
   "metadata": {},
   "outputs": [
    {
     "name": "stdout",
     "output_type": "stream",
     "text": [
      "[0.18106074 0.79987367 0.55458437 0.5450145  0.70860615 0.71020357\n",
      " 0.49074407 0.1395082  0.1620909  0.76932913]\n",
      "sorted array\n",
      "[0.1395082  0.1620909  0.18106074 0.49074407 0.5450145  0.55458437\n",
      " 0.70860615 0.71020357 0.76932913 0.79987367]\n"
     ]
    }
   ],
   "source": [
    "#12.  Create a random vector of size 10 and sort it\n",
    "arr10 = np.random.random(size=(10))\n",
    "print (arr10)\n",
    "\n",
    "print('sorted array')\n",
    "print(np.sort(arr10))"
   ]
  },
  {
   "cell_type": "code",
   "execution_count": 105,
   "metadata": {},
   "outputs": [
    {
     "name": "stdout",
     "output_type": "stream",
     "text": [
      "[0.90558439 0.24935415 0.19790696 0.3517982  0.13900826 0.93504019\n",
      " 0.07115642 0.30625983 0.14031597 0.7573948 ]\n",
      "[0.10824745 0.86237668 0.40065827 0.03831933 0.26902125 0.99934616\n",
      " 0.49205015 0.16817808 0.44994164 0.94782944]\n",
      "[False False False False False False False False False False]\n"
     ]
    }
   ],
   "source": [
    "#13. Consider two random array A anb B, check if they are equal.\n",
    "arr1 = np.random.random(size=(10))\n",
    "\n",
    "print(arr1)\n",
    "\n",
    "arr2 =  np.random.random(size=(10))\n",
    "print(arr2)\n",
    "\n",
    "print(np.equal(arr1,arr2))\n",
    "#np.allclose -- floats\n"
   ]
  },
  {
   "cell_type": "code",
   "execution_count": 123,
   "metadata": {},
   "outputs": [
    {
     "name": "stdout",
     "output_type": "stream",
     "text": [
      "[[0.78091368 0.37310676 0.67854992 0.75616753]\n",
      " [0.3023582  0.63150545 0.51170556 0.95626163]\n",
      " [0.94452469 0.45229395 0.25488334 0.46862733]\n",
      " [0.75914747 0.23042134 0.7200979  0.44491282]\n",
      " [0.44351811 0.59587849 0.95392583 0.41551162]]\n",
      "False\n"
     ]
    }
   ],
   "source": [
    "#14. How to tell if a given 2D array has null columns?\n",
    "\n",
    "arr14 = np.random.random(size=(5,4))\n",
    "\n",
    "\n",
    "\n",
    "print(arr14)\n",
    "print((~arr14.any(axis=0)).any())\n",
    "\n",
    "#arr0 = np.array([None]*10)\n",
    "#print((~arr0.any(axis=0)).any()) #errors out"
   ]
  },
  {
   "cell_type": "code",
   "execution_count": 26,
   "metadata": {},
   "outputs": [],
   "source": [
    "\n"
   ]
  },
  {
   "cell_type": "code",
   "execution_count": 126,
   "metadata": {},
   "outputs": [
    {
     "name": "stdout",
     "output_type": "stream",
     "text": [
      "(3, 4, 5, 6)\n",
      "[[-4.03308756  1.81251023 -4.57573632  3.53972877]\n",
      " [-6.62369107  8.28363332 -0.38881834  5.16435543]\n",
      " [-6.27695752  8.98092956  5.19164499 -3.66815411]]\n"
     ]
    }
   ],
   "source": [
    "#15. Considering a four dimensions array, how to get sum over the last two axis at once?\n",
    "arr14 = np.random.randn(3,4,5,6)\n",
    "print(arr14.shape)\n",
    "\n",
    "print(np.sum(arr14, axis=(2,3)))"
   ]
  },
  {
   "cell_type": "code",
   "execution_count": 127,
   "metadata": {},
   "outputs": [
    {
     "name": "stdout",
     "output_type": "stream",
     "text": [
      "[[ 0.42061143 -0.45337624 -0.80134731 ...  0.75335607  0.03020029\n",
      "   0.1366816 ]\n",
      " [-0.08640175  0.09313228  0.16461229 ... -0.15475396 -0.00620373\n",
      "  -0.02807705]\n",
      " [ 0.35872272 -0.38666651 -0.68343716 ...  0.64250735  0.02575662\n",
      "   0.11657029]\n",
      " ...\n",
      " [-1.43791267  1.54992323  2.73950576 ... -2.57544173 -0.10324346\n",
      "  -0.4672631 ]\n",
      " [-0.54313916  0.58544863  1.03478666 ... -0.97281516 -0.03899789\n",
      "  -0.17649812]\n",
      " [ 0.46006886 -0.49590732 -0.87652145 ...  0.82402817  0.03303337\n",
      "   0.14950366]]\n"
     ]
    }
   ],
   "source": [
    "#16. Consider an array of dimension (5,5,3), how to mulitply it by an array with dimensions (5,5)?\n",
    "#Question: I'm not sure if this is right. I tried different things, but taking the outer product of\n",
    "#arrays with non-equal dimensions seems to work. I did not find a solution in the videos or in the notebook, so\n",
    "#I tried to find something online.\n",
    "\n",
    "array553 = np.random.randn(5,5,3)\n",
    "array55 = np.random.randn(5,5)\n",
    "product = np.outer(array553, array55)\n",
    "\n",
    "print(product)"
   ]
  },
  {
   "cell_type": "code",
   "execution_count": 129,
   "metadata": {},
   "outputs": [
    {
     "name": "stdout",
     "output_type": "stream",
     "text": [
      "[[ 0  1  2  3  4]\n",
      " [ 5  6  7  8  9]\n",
      " [10 11 12 13 14]\n",
      " [15 16 17 18 19]]\n",
      "[[ 0  1  2]\n",
      " [ 5  6  7]\n",
      " [10 11 12]]\n",
      "[[ 1  2  3]\n",
      " [ 6  7  8]\n",
      " [11 12 13]]\n",
      "[[ 2  3  4]\n",
      " [ 7  8  9]\n",
      " [12 13 14]]\n",
      "[[ 5  6  7]\n",
      " [10 11 12]\n",
      " [15 16 17]]\n",
      "[[ 6  7  8]\n",
      " [11 12 13]\n",
      " [16 17 18]]\n",
      "[[ 7  8  9]\n",
      " [12 13 14]\n",
      " [17 18 19]]\n"
     ]
    }
   ],
   "source": [
    "#17. Extract all the contiguous 3x3 blocks from a random 10x10 matrix\n",
    "#CONFUSED: Outside of my understanding from the lectures. Sorry. I can make the matrix but not sure how \n",
    "#to get the 'blocks'\n",
    "# \n",
    "\n",
    "# np.lib.stride_tricks.as_strided()\n",
    "def contiguous_3x3_blocks(a):\n",
    "    m, n = a.shape\n",
    "    return [a[i:i+3, j:j+3] for i in range(m-2) for j in range(n-2)]\n",
    "\n",
    "a = np.arange(20).reshape(4,5)\n",
    "print(a)\n",
    "\n",
    "for block in contiguous_3x3_blocks(a):\n",
    "    print(block)\n"
   ]
  },
  {
   "cell_type": "code",
   "execution_count": 132,
   "metadata": {},
   "outputs": [
    {
     "name": "stdout",
     "output_type": "stream",
     "text": [
      "Array 16x16:\n",
      "[[1. 1. 1. 1. 1. 1. 1. 1. 1. 1. 1. 1. 1. 1. 1. 1.]\n",
      " [1. 1. 1. 1. 1. 1. 1. 1. 1. 1. 1. 1. 1. 1. 1. 1.]\n",
      " [1. 1. 1. 1. 1. 1. 1. 1. 1. 1. 1. 1. 1. 1. 1. 1.]\n",
      " [1. 1. 1. 1. 1. 1. 1. 1. 1. 1. 1. 1. 1. 1. 1. 1.]\n",
      " [1. 1. 1. 1. 1. 1. 1. 1. 1. 1. 1. 1. 1. 1. 1. 1.]\n",
      " [1. 1. 1. 1. 1. 1. 1. 1. 1. 1. 1. 1. 1. 1. 1. 1.]\n",
      " [1. 1. 1. 1. 1. 1. 1. 1. 1. 1. 1. 1. 1. 1. 1. 1.]\n",
      " [1. 1. 1. 1. 1. 1. 1. 1. 1. 1. 1. 1. 1. 1. 1. 1.]\n",
      " [1. 1. 1. 1. 1. 1. 1. 1. 1. 1. 1. 1. 1. 1. 1. 1.]\n",
      " [1. 1. 1. 1. 1. 1. 1. 1. 1. 1. 1. 1. 1. 1. 1. 1.]\n",
      " [1. 1. 1. 1. 1. 1. 1. 1. 1. 1. 1. 1. 1. 1. 1. 1.]\n",
      " [1. 1. 1. 1. 1. 1. 1. 1. 1. 1. 1. 1. 1. 1. 1. 1.]\n",
      " [1. 1. 1. 1. 1. 1. 1. 1. 1. 1. 1. 1. 1. 1. 1. 1.]\n",
      " [1. 1. 1. 1. 1. 1. 1. 1. 1. 1. 1. 1. 1. 1. 1. 1.]\n",
      " [1. 1. 1. 1. 1. 1. 1. 1. 1. 1. 1. 1. 1. 1. 1. 1.]\n",
      " [1. 1. 1. 1. 1. 1. 1. 1. 1. 1. 1. 1. 1. 1. 1. 1.]]\n",
      "[[16. 16. 16. 16.]\n",
      " [16. 16. 16. 16.]\n",
      " [16. 16. 16. 16.]\n",
      " [16. 16. 16. 16.]]\n"
     ]
    }
   ],
   "source": [
    "#18. Consider a 16x16 array, how to get the block-sum (block size is 4x4)?\n",
    "\n",
    "#reduceat\n",
    "\n",
    "a = np.ones((16,16))\n",
    "n = 4\n",
    "print(\"Array 16x16:\")\n",
    "print(a)\n",
    "result = np.add.reduceat(np.add.reduceat(a,np.arange(0, a.shape[0], n), axis=0), np.arange(0, a.shape[1], n), axis=1)\n",
    "\n",
    "print(result)\n"
   ]
  },
  {
   "cell_type": "code",
   "execution_count": 111,
   "metadata": {},
   "outputs": [
    {
     "name": "stdout",
     "output_type": "stream",
     "text": [
      "[ 0.81195819  1.0239203  -0.45119331  0.90431405 -0.08010095  1.0753382\n",
      "  0.85067058 -1.18912607 -0.70339243 -1.68206019 -1.1048709   0.02747066\n",
      "  0.23357073  1.02389266  0.13857036 -0.29792548  0.56428214  0.30533295\n",
      " -1.10736894  0.10844071 -1.82029169 -0.35596808  0.85921228 -0.55610718\n",
      "  0.0153098   0.00621012  0.26007322 -0.64769802  1.22405854 -0.06868117\n",
      "  0.53343372  0.95066583  2.32623687 -0.69335602  0.7982886   1.12509833\n",
      " -2.02336046  0.75271105  0.20854418 -0.10749134 -2.65477719  0.65430559\n",
      " -0.86338898  1.8129669   0.1278231  -0.02427737  0.32523844 -0.88277844\n",
      "  0.15476046 -0.80893709  0.7975639   0.63336606  0.20337389  1.45502979\n",
      "  0.54754291 -1.00954266  0.70099934 -0.71477688 -1.41001183  0.41917129\n",
      "  2.03852377 -0.36147657 -2.40632342 -0.95645124 -0.3196202   0.25731027\n",
      " -0.95505553 -1.79691299 -0.83792752 -0.92405311  0.38610102 -1.00126307\n",
      "  0.88371032  1.76644296 -0.38744338  1.7335595  -0.71264383 -2.48955113\n",
      "  0.00423014 -0.16032018  2.17840635 -0.78062601 -0.17142803 -1.81173592\n",
      "  0.25427304 -1.40006633 -0.60827654 -0.34875837  0.05134036  0.27568116\n",
      " -0.64957811  2.48593894  0.49774089  1.01408281 -0.75112874 -0.38068359\n",
      "  0.13208797  0.44390582  0.26182548 -0.4219374 ]\n",
      "--------------\n",
      "[ 1.13583     0.29594819  0.91880551  1.61128302  0.95157051  0.70045246\n",
      "  0.16851613 -0.64616673  1.35110762  0.71037353  0.8653475  -0.77216068\n",
      "  3.33780195  0.5888609   0.44841983  1.0011398   0.2867888   1.58044319\n",
      "  2.40841364  0.80345571  2.25536695  1.2154807   1.93920739 -0.26914847\n",
      "  0.12793547  2.17553103  1.53693555  1.94560279  0.68869113  1.34554542\n",
      "  1.27491911  1.69611226  2.06298455  0.77972614  0.28696935 -0.03983095\n",
      "  2.52784385  1.11164603  1.19822072  0.58235549  0.42595119  2.65559405\n",
      "  1.69462697 -0.5130967   1.21119502  2.02117721  0.89738482  0.72609106\n",
      "  1.10557666  1.70412521  0.24618685  1.1389903   0.75425869  2.57664904\n",
      "  1.15699056  1.89526301  2.18895058  1.06031209  1.30749124  0.29902734\n",
      "  1.65100696 -0.86358084  1.20334698  0.39447811 -0.25714253  0.0116503\n",
      "  0.57561529  0.54017091  0.00643264  3.75789301  1.51211844  2.1668256\n",
      "  3.20208757  1.21596664  0.86164388  1.20436245  1.34690499  0.79900754\n",
      "  0.60776437  2.25614419  0.12051583  1.26477359  0.70068231  0.65882595\n",
      "  0.01884203  1.55085547  1.42039011  1.2014603   2.14105346  1.84768365\n",
      "  0.37257398  0.50693512  2.31808859  1.27436932  1.23179395 -0.13834297\n",
      "  0.80092302  2.92127372  1.50874933  2.03639887]\n",
      "--------------\n",
      "Ttest_indResult(statistic=-8.457568130726383, pvalue=5.95629762609024e-15)\n"
     ]
    }
   ],
   "source": [
    "#19. Generate 2 random gaussian distributions and run a t-test to see differences\n",
    "# scipy to do t-test\n",
    "\n",
    "from scipy import stats\n",
    "\n",
    "g1 = np.random.normal(0,1,100)\n",
    "g2 = np.random.normal(1,1,100)\n",
    "\n",
    "print(g1)\n",
    "\n",
    "print(\"--------------\")\n",
    "print(g2)\n",
    "\n",
    "print(\"--------------\")\n",
    "\n",
    "testRslt = stats.ttest_ind(g1,g2)\n",
    "print(testRslt)"
   ]
  },
  {
   "cell_type": "code",
   "execution_count": null,
   "metadata": {},
   "outputs": [],
   "source": []
  }
 ],
 "metadata": {
  "hide_input": false,
  "kernelspec": {
   "display_name": "Python 3",
   "language": "python",
   "name": "python3"
  },
  "language_info": {
   "codemirror_mode": {
    "name": "ipython",
    "version": 3
   },
   "file_extension": ".py",
   "mimetype": "text/x-python",
   "name": "python",
   "nbconvert_exporter": "python",
   "pygments_lexer": "ipython3",
   "version": "3.8.8"
  }
 },
 "nbformat": 4,
 "nbformat_minor": 4
}
