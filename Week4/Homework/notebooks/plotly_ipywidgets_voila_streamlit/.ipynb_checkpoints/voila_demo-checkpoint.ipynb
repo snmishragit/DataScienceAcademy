{
 "cells": [
  {
   "cell_type": "markdown",
   "id": "facial-winter",
   "metadata": {},
   "source": [
    "# Welcome to Voila Dashboard Tutorial"
   ]
  },
  {
   "cell_type": "code",
   "execution_count": 1,
   "id": "eastern-skiing",
   "metadata": {},
   "outputs": [],
   "source": [
    "import plotly.express as px\n",
    "import pandas as pd"
   ]
  },
  {
   "cell_type": "code",
   "execution_count": null,
   "id": "87dfb902",
   "metadata": {},
   "outputs": [],
   "source": [
    "df = px.data.gapminder()"
   ]
  },
  {
   "cell_type": "code",
   "execution_count": 2,
   "id": "conscious-lodge",
   "metadata": {},
   "outputs": [],
   "source": [
    "df.head()"
   ]
  },
  {
   "cell_type": "code",
   "execution_count": null,
   "id": "8ed4ba6f",
   "metadata": {},
   "outputs": [],
   "source": [
    "# a simple dashboard\n",
    "px.scatter(df.query(\"year==2007\"), x=\"gdpPercap\", y=\"lifeExp\", size=\"pop\", color=\"continent\",\n",
    "           hover_name=\"country\", log_x=True, size_max=60)"
   ]
  },
  {
   "cell_type": "code",
   "execution_count": null,
   "id": "assigned-polls",
   "metadata": {},
   "outputs": [],
   "source": []
  },
  {
   "cell_type": "markdown",
   "id": "known-sitting",
   "metadata": {},
   "source": [
    "# add more features\n",
    "from ipywidgets import interact, fixed, widgets\n",
    "from IPython.display import display\n",
    "\n",
    "# let's use the GDP data, but you want to choose the contenient\n",
    "\n",
    "def continent_gdp(df,conti):\n",
    "    return px.scatter(df.query('continent==@conti'), x=\"gdpPercap\", y=\"lifeExp\", size=\"pop\", color=\"country\",\n",
    "           hover_name=\"country\", log_x=True, size_max=60,animation_frame='year',range_y=[20,100])\n"
   ]
  },
  {
   "cell_type": "markdown",
   "id": "compound-printing",
   "metadata": {},
   "source": [
    "selector = widgets.RadioButtons(\n",
    "    options=['Asia', 'Europe', 'Africa', 'Americas', 'Oceania'],\n",
    "    description='Continent:',\n",
    "    disabled=False\n",
    ")"
   ]
  },
  {
   "cell_type": "markdown",
   "id": "brutal-geology",
   "metadata": {},
   "source": [
    "result = interact(continent_gdp, df=fixed(df), conti=selector)"
   ]
  },
  {
   "cell_type": "code",
   "execution_count": null,
   "id": "continuous-hartford",
   "metadata": {},
   "outputs": [],
   "source": []
  }
 ],
 "metadata": {
  "kernelspec": {
   "display_name": "Python 3",
   "language": "python",
   "name": "python3"
  },
  "language_info": {
   "codemirror_mode": {
    "name": "ipython",
    "version": 3
   },
   "file_extension": ".py",
   "mimetype": "text/x-python",
   "name": "python",
   "nbconvert_exporter": "python",
   "pygments_lexer": "ipython3",
   "version": "3.8.8"
  }
 },
 "nbformat": 4,
 "nbformat_minor": 5
}
